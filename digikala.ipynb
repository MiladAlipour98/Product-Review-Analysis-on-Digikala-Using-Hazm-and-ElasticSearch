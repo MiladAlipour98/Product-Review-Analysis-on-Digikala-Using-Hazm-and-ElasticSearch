{
 "cells": [
  {
   "cell_type": "markdown",
   "metadata": {},
   "source": [
    "## Part 1"
   ]
  },
  {
   "cell_type": "code",
   "execution_count": 12,
   "metadata": {},
   "outputs": [],
   "source": [
    "from hazm import *\n",
    "from elasticsearch import Elasticsearch\n",
    "from bs4 import BeautifulSoup\n",
    "from selenium import webdriver\n",
    "from selenium.webdriver.support.ui import WebDriverWait\n",
    "from selenium.webdriver.support import expected_conditions as ec\n",
    "from selenium.webdriver.common.by import By\n",
    "from selenium.common.exceptions import TimeoutException\n",
    "import time\n",
    "import pandas as pd\n",
    "import re"
   ]
  },
  {
   "cell_type": "code",
   "execution_count": 2,
   "metadata": {},
   "outputs": [],
   "source": [
    "def get_digikala_comments(url, page_nums):\n",
    "    driver = webdriver.Edge()\n",
    "    driver.maximize_window()\n",
    "    driver.get(url)\n",
    "\n",
    "    comments = []\n",
    "\n",
    "    try:\n",
    "        timeout_in_seconds = 30\n",
    "        WebDriverWait(driver, timeout_in_seconds).until(ec.element_to_be_clickable((By.XPATH, '/html/body/div[1]/div[1]/div[3]/div[3]/div[2]/div[9]/div/div[2]/div/section/div[2]/div[2]/div[2]/div[4]/button')))\n",
    "\n",
    "        more_comments_button = driver.find_element(By.XPATH, '/html/body/div[1]/div[1]/div[3]/div[3]/div[2]/div[9]/div/div[2]/div/section/div[2]/div[2]/div[2]/div[4]/button')\n",
    "        driver.execute_script(\"arguments[0].click();\", more_comments_button)\n",
    "        time.sleep(3)\n",
    "\n",
    "        span_number = 2\n",
    "        for _ in range(page_nums):\n",
    "            html = driver.page_source\n",
    "            soup = BeautifulSoup(html, features=\"html.parser\")\n",
    "            page_comments = soup.find_all('article', attrs={'class':'py-3 lg:mt-0 flex items-start br-list-vertical-no-padding-200'})\n",
    "            comments.append(page_comments)\n",
    "\n",
    "            next_page_button = driver.find_element(By.XPATH, f'/html/body/div[1]/div[1]/div[3]/div[3]/div[2]/div[9]/div/div[2]/div/section/div[2]/div[2]/div[2]/div[4]/div[2]/span[{span_number}]')\n",
    "            WebDriverWait(driver, timeout_in_seconds).until(ec.element_to_be_clickable((By.XPATH, f'/html/body/div[1]/div[1]/div[3]/div[3]/div[2]/div[9]/div/div[2]/div/section/div[2]/div[2]/div[2]/div[4]/div[2]/span[{span_number}]')))\n",
    "            driver.execute_script(\"arguments[0].click();\", next_page_button)\n",
    "            \n",
    "            WebDriverWait(driver, timeout_in_seconds).until(ec.presence_of_element_located((By.XPATH, '/html/body/div[1]/div[1]/div[3]/div[3]/div[2]/div[9]/div/div[2]/div/section/div[2]/div[2]/div[2]/article[1]/div[2]/div[1]/div/div/div[1]/div[2]/div/p')))\n",
    "\n",
    "            if(span_number == 4):\n",
    "                span_number = 4\n",
    "            else:\n",
    "                span_number += 1\n",
    "\n",
    "        return comments\n",
    "\n",
    "    except TimeoutException:\n",
    "        print(\"I give up...\")\n",
    "    finally:\n",
    "        driver.quit()"
   ]
  },
  {
   "cell_type": "code",
   "execution_count": 5,
   "metadata": {},
   "outputs": [],
   "source": [
    "def get_comment_texts(comment_list):\n",
    "    comments = []    \n",
    "    for element in comment_list:\n",
    "        soup = BeautifulSoup(f'{element}', 'html.parser')\n",
    "        text = soup.find('p', attrs={'class': 'text-body-1 text-neutral-900 mb-1 pt-3 break-words'}).text\n",
    "        comments.append(text)\n",
    "\n",
    "    return comments"
   ]
  },
  {
   "cell_type": "code",
   "execution_count": 6,
   "metadata": {},
   "outputs": [],
   "source": [
    "def write_comments_to_file(comments, file_path):\n",
    "    # first normalize the comments\n",
    "    normalizer = Normalizer()\n",
    "    normalized_comments = []\n",
    "    for comment in comments:\n",
    "        normalized_text = normalizer.normalize(comment)\n",
    "        normalized_text = re.sub('\\r', '', normalized_text)\n",
    "        normalized_text = re.sub('\\n', '', normalized_text)\n",
    "        normalized_text = re.sub('\\u200c', '', normalized_text)\n",
    "        normalized_comments.append(normalized_text)\n",
    "\n",
    "    # write commnets to file\n",
    "    with open(file_path, 'w', encoding='utf-8') as f:\n",
    "        for line in normalized_comments:\n",
    "            f.write(f'{line}\\n')"
   ]
  },
  {
   "cell_type": "code",
   "execution_count": 3,
   "metadata": {},
   "outputs": [],
   "source": [
    "# get comments form csv file\n",
    "def get_comments_from_file(file_path):\n",
    "    comments_df = pd.read_csv(file_path)\n",
    "    return comments_df"
   ]
  },
  {
   "cell_type": "code",
   "execution_count": 5,
   "metadata": {},
   "outputs": [],
   "source": [
    "def normalize_comment(comment):\n",
    "    normalizer = Normalizer()\n",
    "    lemmatizer = Lemmatizer()\n",
    "    tagger = POSTagger ( model = 'pos_tagger.model' )\n",
    "\n",
    "    normalized_text = normalizer.normalize(comment)\n",
    "    normalized_text = re.sub('\\r\\n', '', normalized_text)\n",
    "    normalized_text = re.sub('\\u200c', '', normalized_text)\n",
    "\n",
    "    tokenized_text = word_tokenize(normalized_text)\n",
    "\n",
    "    lemmatized_text = []\n",
    "    for token in tokenized_text:\n",
    "        lemmatized_token = lemmatizer.lemmatize(token)\n",
    "        lemmatized_text.append(lemmatized_token)\n",
    "\n",
    "    tagged_text = tagger.tag(lemmatized_text)\n",
    "\n",
    "    return tagged_text"
   ]
  },
  {
   "cell_type": "code",
   "execution_count": null,
   "metadata": {},
   "outputs": [],
   "source": [
    "def write_to_elasticsearch(dataset, name):\n",
    "    # Connect to Elasticsearch\n",
    "    es = Elasticsearch(\"https://localhost:9200\", basic_auth=('elastic', 'zkDnyODIsWuqAaGpBexz'), verify_certs=False)\n",
    "\n",
    "    # if index exists\n",
    "    if es.indices.exists(index=name):\n",
    "        i = 0\n",
    "        for element in dataset:\n",
    "            es.index(\n",
    "                index=name,\n",
    "                id = i,\n",
    "                document={\n",
    "                    'text': element\n",
    "                },\n",
    "            )\n",
    "            i += 1\n",
    "\n",
    "    # if index doesn't exist\n",
    "    else:\n",
    "        es.indices.create(index=name)     # create the index first\n",
    "        i = 0\n",
    "        for element in dataset:\n",
    "            es.index(\n",
    "                index=name,\n",
    "                id = i,\n",
    "                document={\n",
    "                    'text': element\n",
    "                },\n",
    "            )\n",
    "            i += 1"
   ]
  },
  {
   "cell_type": "code",
   "execution_count": null,
   "metadata": {},
   "outputs": [],
   "source": [
    "# get <article> elements that contain comments\n",
    "url = \"https://www.digikala.com/product/dkp-9510040/\"\n",
    "digikala_comment_elements = get_digikala_comments(url, page_nums=10)"
   ]
  },
  {
   "cell_type": "code",
   "execution_count": null,
   "metadata": {},
   "outputs": [],
   "source": [
    "# get comment texts form <article> elements\n",
    "comments = []\n",
    "for comment_list in digikala_comment_elements:\n",
    "    comment_texts = get_comment_texts(comment_list)\n",
    "    for item in comment_texts:\n",
    "        comments.append(item)"
   ]
  },
  {
   "cell_type": "code",
   "execution_count": 13,
   "metadata": {},
   "outputs": [],
   "source": [
    "comments_df = get_comments_from_file(file_path='comments_partial.csv')\n",
    "comments = list(comments_df['comment'])\n",
    "\n",
    "tagged_comments = []\n",
    "for comment in comments[:100]:\n",
    "    tagged_comment = normalize_comment(comment)\n",
    "    tagged_comments.append(tagged_comment)"
   ]
  },
  {
   "cell_type": "code",
   "execution_count": null,
   "metadata": {},
   "outputs": [],
   "source": [
    "write_to_elasticsearch(comments, name='comments')"
   ]
  },
  {
   "cell_type": "markdown",
   "metadata": {},
   "source": [
    "## Part 2-4"
   ]
  },
  {
   "cell_type": "code",
   "execution_count": 14,
   "metadata": {},
   "outputs": [],
   "source": [
    "import numpy as np\n",
    "from sklearn.metrics.pairwise import cosine_similarity\n",
    "import nltk"
   ]
  },
  {
   "cell_type": "code",
   "execution_count": 15,
   "metadata": {},
   "outputs": [],
   "source": [
    "grammers = [\n",
    "\"\"\"\n",
    "NP:\n",
    "        {<NOUN,EZ>?<NOUN.*>}    # Noun(s) + Noun(optional)\n",
    "\n",
    "\"\"\",\n",
    "\n",
    "\"\"\"\n",
    "NP:\n",
    "        {<NOUN.*><ADJ.*>?}    # Noun(s) + Adjective(optional)\n",
    "\n",
    "\"\"\"\n",
    "]"
   ]
  },
  {
   "cell_type": "code",
   "execution_count": 16,
   "metadata": {},
   "outputs": [],
   "source": [
    "sent2vec_model_path = 'sent2vec-naab.model'\n",
    "sent2vec_model = SentEmbedding(sent2vec_model_path)"
   ]
  },
  {
   "cell_type": "code",
   "execution_count": 17,
   "metadata": {},
   "outputs": [],
   "source": [
    "# TODO - use the normalize method in part 1\n",
    "\n",
    "def normalize_and_tokenize(comment):\n",
    "    normalizer = Normalizer()\n",
    "\n",
    "    normalized_text = normalizer.normalize(comment)\n",
    "    normalized_text = re.sub('\\r\\n', '', normalized_text)\n",
    "    normalized_text = re.sub('\\u200c', '', normalized_text)\n",
    "    tokenized_text = [word_tokenize(txt) for txt in sent_tokenize(normalized_text)]\n",
    "    return tokenized_text\n",
    "\n",
    "def tag_comment(tokenized_text, model_path):\n",
    "    tagger = POSTagger(model = model_path)\n",
    "    token_tag_list = tagger.tag_sents(tokenized_text)\n",
    "    return token_tag_list"
   ]
  },
  {
   "cell_type": "code",
   "execution_count": 18,
   "metadata": {},
   "outputs": [],
   "source": [
    "def extract_candidates(tagged, grammer):\n",
    "    keyphrase_candidate = set()\n",
    "    np_parser = nltk.RegexpParser(grammer)\n",
    "    trees = np_parser.parse_sents(tagged)\n",
    "    for tree in trees:\n",
    "        for subtree in tree.subtrees(filter=lambda t: t.label() == 'NP'):  # For each nounphrase\n",
    "            # Concatenate the token with a space\n",
    "            keyphrase_candidate.add(' '.join(word for word, tag in subtree.leaves()))\n",
    "    keyphrase_candidate = {kp for kp in keyphrase_candidate if len(kp.split()) <= 5}\n",
    "    keyphrase_candidate = list(keyphrase_candidate)\n",
    "    return keyphrase_candidate\n",
    "\n",
    "def get_candidates(tagged, grammers):\n",
    "    all_candidates = set()\n",
    "    for grammer in grammers:\n",
    "        all_candidates.update(extract_candidates(tagged, grammer))\n",
    "\n",
    "    all_candidates = np.array(list(all_candidates))\n",
    "    return all_candidates"
   ]
  },
  {
   "cell_type": "code",
   "execution_count": 19,
   "metadata": {},
   "outputs": [],
   "source": [
    "def get_candidates_vector(candidates):\n",
    "    candidates_vectors = [sent2vec_model[candidate] for candidate in candidates]\n",
    "\n",
    "    candidates_concatinate = ' '.join(candidates)\n",
    "    whole_text_vector = sent2vec_model[candidates_concatinate]\n",
    "\n",
    "    return np.array(candidates_vectors), whole_text_vector"
   ]
  },
  {
   "cell_type": "code",
   "execution_count": 20,
   "metadata": {},
   "outputs": [],
   "source": [
    "def cosine_similarity_candidate_and_whole(candidates_vectors, whole_text_vector):\n",
    "    candidates_sim_whole = cosine_similarity(candidates_vectors, whole_text_vector.reshape(1,-1))\n",
    "    candidates_sim_whole.reshape(1,-1)\n",
    "    candidates_sim_whole_norm = candidates_sim_whole / np.max(candidates_sim_whole)\n",
    "    candidates_sim_whole_norm = 0.5 + (candidates_sim_whole_norm - np.average(candidates_sim_whole_norm)) / np.std(candidates_sim_whole_norm)\n",
    "    return candidates_sim_whole_norm\n",
    "\n",
    "def cosine_similarity_between_candidates(candidates_vectors):\n",
    "    candidate_sim_candidate = cosine_similarity(candidates_vectors)\n",
    "    np.fill_diagonal(candidate_sim_candidate, np.NaN)\n",
    "    candidate_sim_candidate_norm = candidate_sim_candidate / np.nanmax(candidate_sim_candidate, axis=0)\n",
    "    candidate_sim_candidate_norm = 0.5 + (candidate_sim_candidate_norm - np.nanmean(candidate_sim_candidate_norm, axis=0)) / np.nanstd(candidate_sim_candidate_norm, axis=0)\n",
    "    return candidate_sim_candidate_norm"
   ]
  },
  {
   "cell_type": "code",
   "execution_count": 14,
   "metadata": {},
   "outputs": [],
   "source": [
    "def find_keywords(beta, N, candidates, candidates_sim_whole_norm, candidate_sim_candidate_norm):\n",
    "    keyword_num = min(len(candidates), N)\n",
    "\n",
    "    selected_candidates = []\n",
    "    unselected_candidates = [i for i in range(len(candidates))]\n",
    "    best_candidate = np.argmax(candidates_sim_whole_norm)\n",
    "    selected_candidates.append(best_candidate)\n",
    "    unselected_candidates.remove(best_candidate)\n",
    "\n",
    "\n",
    "    for i in range(keyword_num-1):\n",
    "        selected_vec = np.array(selected_candidates)\n",
    "        unselected_vec = np.array(unselected_candidates)\n",
    "\n",
    "        unselected_candidate_sim_whole_norm = candidates_sim_whole_norm[unselected_vec, :]\n",
    "\n",
    "        dist_between = candidate_sim_candidate_norm[unselected_vec][:, selected_vec]\n",
    "\n",
    "        if dist_between.ndim == 1:\n",
    "            dist_between = dist_between[:, np.newaxis]\n",
    "\n",
    "        best_candidate = np.argmax(beta * unselected_candidate_sim_whole_norm - (1 - beta) * np.max(dist_between, axis = 1).reshape(-1,1))\n",
    "        best_index = unselected_candidates[best_candidate]\n",
    "        selected_candidates.append(best_index)\n",
    "        unselected_candidates.remove(best_index)\n",
    "        \n",
    "    keywords = candidates[selected_candidates].tolist()\n",
    "    \n",
    "    difference = N - len(keywords)\n",
    "    if(difference > 0 and difference < N):\n",
    "        for _ in range(difference):\n",
    "            keywords.append('null')\n",
    "\n",
    "    return keywords"
   ]
  },
  {
   "cell_type": "code",
   "execution_count": null,
   "metadata": {},
   "outputs": [],
   "source": [
    "tagged_comments = []\n",
    "model_path = 'pos_tagger.model'\n",
    "for comment in comments[:100]:\n",
    "    tagged = tag_comment(normalize_and_tokenize(comment),model_path)\n",
    "    tagged_comments.append(tagged)"
   ]
  },
  {
   "cell_type": "code",
   "execution_count": null,
   "metadata": {},
   "outputs": [],
   "source": [
    "write_to_elasticsearch(tagged_comments, name='tagged_comments')"
   ]
  },
  {
   "cell_type": "code",
   "execution_count": null,
   "metadata": {},
   "outputs": [],
   "source": [
    "keywords_list = []\n",
    "for comment in tagged_comments:\n",
    "    # get candidate keywords for a comment\n",
    "    candidates = get_candidates(comment, grammers)\n",
    "    write_to_elasticsearch(tagged_comments, name='candidates')\n",
    "    \n",
    "    if(len(candidates) > 0):\n",
    "        # turn candidates into word vectors and also get a word vector for the whole text\n",
    "        candidates_vectors, whole_text_vector = get_candidates_vector(candidates)\n",
    "\n",
    "        # compute cosine similarity between each candidate and the whole text and also between candidates themselves.\n",
    "        # and also normal the vectors\n",
    "        candidates_sim_whole_norm = cosine_similarity_candidate_and_whole(candidates_vectors, whole_text_vector)\n",
    "\n",
    "        candidate_sim_candidate_norm = cosine_similarity_between_candidates(candidates_vectors)\n",
    "\n",
    "        # get keywords for each comment\n",
    "        # if less than 5 keywords, type null instead\n",
    "        beta = 0.82\n",
    "        N = 5\n",
    "        keywords = find_keywords(beta, N, candidates, candidates_sim_whole_norm, candidate_sim_candidate_norm)\n",
    "        keywords_list.append(keywords)\n",
    "\n",
    "write_to_elasticsearch(keywords_list, name='keywords')"
   ]
  },
  {
   "cell_type": "markdown",
   "metadata": {},
   "source": [
    "## Part 5"
   ]
  },
  {
   "cell_type": "code",
   "execution_count": null,
   "metadata": {},
   "outputs": [],
   "source": [
    "import csv\n",
    "\n",
    "with open('keywords.csv', 'w', encoding='utf-8', newline='') as f:\n",
    "    writer = csv.writer(f)\n",
    "    writer.writerows(keywords_list)"
   ]
  },
  {
   "cell_type": "code",
   "execution_count": 17,
   "metadata": {},
   "outputs": [],
   "source": [
    "wordEmbedding = WordEmbedding(model_type = 'fasttext')\n",
    "wordEmbedding.load_model('fasttext_skipgram_300.bin')"
   ]
  },
  {
   "cell_type": "code",
   "execution_count": 31,
   "metadata": {},
   "outputs": [],
   "source": [
    "keyword_vectors = []\n",
    "for row in keywords_list:\n",
    "    kv_vectors = []\n",
    "    for word in row:\n",
    "        kv_vectors.append(wordEmbedding.get_normal_vector(word))\n",
    "    keyword_vectors.append(kv_vectors)"
   ]
  },
  {
   "cell_type": "code",
   "execution_count": 36,
   "metadata": {},
   "outputs": [
    {
     "data": {
      "text/plain": [
       "((413, 1500), (413,))"
      ]
     },
     "execution_count": 36,
     "metadata": {},
     "output_type": "execute_result"
    }
   ],
   "source": [
    "X = np.array([np.array(xi) for xi in keyword_vectors])\n",
    "X = X.flatten()\n",
    "X = np.reshape(X, newshape=(len(keyword_vectors), 1500))\n",
    "\n",
    "y = np.array(comments_df['label'][:len(keyword_vectors)])\n",
    "\n",
    "X.shape, y.shape"
   ]
  },
  {
   "cell_type": "code",
   "execution_count": 45,
   "metadata": {},
   "outputs": [
    {
     "data": {
      "text/html": [
       "<style>#sk-container-id-7 {color: black;}#sk-container-id-7 pre{padding: 0;}#sk-container-id-7 div.sk-toggleable {background-color: white;}#sk-container-id-7 label.sk-toggleable__label {cursor: pointer;display: block;width: 100%;margin-bottom: 0;padding: 0.3em;box-sizing: border-box;text-align: center;}#sk-container-id-7 label.sk-toggleable__label-arrow:before {content: \"▸\";float: left;margin-right: 0.25em;color: #696969;}#sk-container-id-7 label.sk-toggleable__label-arrow:hover:before {color: black;}#sk-container-id-7 div.sk-estimator:hover label.sk-toggleable__label-arrow:before {color: black;}#sk-container-id-7 div.sk-toggleable__content {max-height: 0;max-width: 0;overflow: hidden;text-align: left;background-color: #f0f8ff;}#sk-container-id-7 div.sk-toggleable__content pre {margin: 0.2em;color: black;border-radius: 0.25em;background-color: #f0f8ff;}#sk-container-id-7 input.sk-toggleable__control:checked~div.sk-toggleable__content {max-height: 200px;max-width: 100%;overflow: auto;}#sk-container-id-7 input.sk-toggleable__control:checked~label.sk-toggleable__label-arrow:before {content: \"▾\";}#sk-container-id-7 div.sk-estimator input.sk-toggleable__control:checked~label.sk-toggleable__label {background-color: #d4ebff;}#sk-container-id-7 div.sk-label input.sk-toggleable__control:checked~label.sk-toggleable__label {background-color: #d4ebff;}#sk-container-id-7 input.sk-hidden--visually {border: 0;clip: rect(1px 1px 1px 1px);clip: rect(1px, 1px, 1px, 1px);height: 1px;margin: -1px;overflow: hidden;padding: 0;position: absolute;width: 1px;}#sk-container-id-7 div.sk-estimator {font-family: monospace;background-color: #f0f8ff;border: 1px dotted black;border-radius: 0.25em;box-sizing: border-box;margin-bottom: 0.5em;}#sk-container-id-7 div.sk-estimator:hover {background-color: #d4ebff;}#sk-container-id-7 div.sk-parallel-item::after {content: \"\";width: 100%;border-bottom: 1px solid gray;flex-grow: 1;}#sk-container-id-7 div.sk-label:hover label.sk-toggleable__label {background-color: #d4ebff;}#sk-container-id-7 div.sk-serial::before {content: \"\";position: absolute;border-left: 1px solid gray;box-sizing: border-box;top: 0;bottom: 0;left: 50%;z-index: 0;}#sk-container-id-7 div.sk-serial {display: flex;flex-direction: column;align-items: center;background-color: white;padding-right: 0.2em;padding-left: 0.2em;position: relative;}#sk-container-id-7 div.sk-item {position: relative;z-index: 1;}#sk-container-id-7 div.sk-parallel {display: flex;align-items: stretch;justify-content: center;background-color: white;position: relative;}#sk-container-id-7 div.sk-item::before, #sk-container-id-7 div.sk-parallel-item::before {content: \"\";position: absolute;border-left: 1px solid gray;box-sizing: border-box;top: 0;bottom: 0;left: 50%;z-index: -1;}#sk-container-id-7 div.sk-parallel-item {display: flex;flex-direction: column;z-index: 1;position: relative;background-color: white;}#sk-container-id-7 div.sk-parallel-item:first-child::after {align-self: flex-end;width: 50%;}#sk-container-id-7 div.sk-parallel-item:last-child::after {align-self: flex-start;width: 50%;}#sk-container-id-7 div.sk-parallel-item:only-child::after {width: 0;}#sk-container-id-7 div.sk-dashed-wrapped {border: 1px dashed gray;margin: 0 0.4em 0.5em 0.4em;box-sizing: border-box;padding-bottom: 0.4em;background-color: white;}#sk-container-id-7 div.sk-label label {font-family: monospace;font-weight: bold;display: inline-block;line-height: 1.2em;}#sk-container-id-7 div.sk-label-container {text-align: center;}#sk-container-id-7 div.sk-container {/* jupyter's `normalize.less` sets `[hidden] { display: none; }` but bootstrap.min.css set `[hidden] { display: none !important; }` so we also need the `!important` here to be able to override the default hidden behavior on the sphinx rendered scikit-learn.org. See: https://github.com/scikit-learn/scikit-learn/issues/21755 */display: inline-block !important;position: relative;}#sk-container-id-7 div.sk-text-repr-fallback {display: none;}</style><div id=\"sk-container-id-7\" class=\"sk-top-container\"><div class=\"sk-text-repr-fallback\"><pre>KNeighborsClassifier()</pre><b>In a Jupyter environment, please rerun this cell to show the HTML representation or trust the notebook. <br />On GitHub, the HTML representation is unable to render, please try loading this page with nbviewer.org.</b></div><div class=\"sk-container\" hidden><div class=\"sk-item\"><div class=\"sk-estimator sk-toggleable\"><input class=\"sk-toggleable__control sk-hidden--visually\" id=\"sk-estimator-id-7\" type=\"checkbox\" checked><label for=\"sk-estimator-id-7\" class=\"sk-toggleable__label sk-toggleable__label-arrow\">KNeighborsClassifier</label><div class=\"sk-toggleable__content\"><pre>KNeighborsClassifier()</pre></div></div></div></div></div>"
      ],
      "text/plain": [
       "KNeighborsClassifier()"
      ]
     },
     "execution_count": 45,
     "metadata": {},
     "output_type": "execute_result"
    }
   ],
   "source": [
    "from sklearn.neighbors import KNeighborsClassifier\n",
    "from sklearn.model_selection import train_test_split\n",
    "\n",
    "X_train, X_test, y_train, y_test = train_test_split(X, y, test_size=0.2, random_state=42)\n",
    "\n",
    "neigh = KNeighborsClassifier(n_neighbors=5)\n",
    "neigh.fit(X_train, y_train)"
   ]
  },
  {
   "cell_type": "code",
   "execution_count": 46,
   "metadata": {},
   "outputs": [
    {
     "name": "stdout",
     "output_type": "stream",
     "text": [
      "0.9151515151515152\n",
      "0.9156626506024096\n"
     ]
    }
   ],
   "source": [
    "print(neigh.score(X_train, y_train))\n",
    "print(neigh.score(X_test, y_test))"
   ]
  }
 ],
 "metadata": {
  "kernelspec": {
   "display_name": "Python 3",
   "language": "python",
   "name": "python3"
  },
  "language_info": {
   "codemirror_mode": {
    "name": "ipython",
    "version": 3
   },
   "file_extension": ".py",
   "mimetype": "text/x-python",
   "name": "python",
   "nbconvert_exporter": "python",
   "pygments_lexer": "ipython3",
   "version": "3.11.3"
  }
 },
 "nbformat": 4,
 "nbformat_minor": 2
}
